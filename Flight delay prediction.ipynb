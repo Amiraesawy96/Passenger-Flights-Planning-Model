{
 "cells": [
  {
   "cell_type": "code",
   "execution_count": 1,
   "metadata": {},
   "outputs": [],
   "source": [
    "import pandas as pd\n",
    "import csv\n",
    "\n",
    "from sklearn.preprocessing import LabelEncoder\n",
    "import matplotlib\n",
    "from matplotlib import pyplot as plt\n",
    "import matplotlib.pyplot as plt\n",
    "from datetime import datetime\n",
    "\n",
    "\n",
    "from sklearn.model_selection import train_test_split, cross_val_score, GridSearchCV\n",
    "from sklearn.ensemble import RandomForestClassifier\n",
    "from sklearn.metrics import confusion_matrix, roc_curve\n",
    "from sklearn.tree import DecisionTreeClassifier\n",
    "from sklearn.model_selection import cross_validate\n",
    "from sklearn.model_selection import KFold\n",
    "import numpy as np\n",
    "from sklearn.metrics import accuracy_score\n",
    "\n",
    "import warnings"
   ]
  },
  {
   "cell_type": "markdown",
   "metadata": {},
   "source": [
    "## Data Preparing & Cleaning"
   ]
  },
  {
   "cell_type": "code",
   "execution_count": 2,
   "metadata": {},
   "outputs": [
    {
     "data": {
      "text/html": [
       "<div>\n",
       "<style scoped>\n",
       "    .dataframe tbody tr th:only-of-type {\n",
       "        vertical-align: middle;\n",
       "    }\n",
       "\n",
       "    .dataframe tbody tr th {\n",
       "        vertical-align: top;\n",
       "    }\n",
       "\n",
       "    .dataframe thead th {\n",
       "        text-align: right;\n",
       "    }\n",
       "</style>\n",
       "<table border=\"1\" class=\"dataframe\">\n",
       "  <thead>\n",
       "    <tr style=\"text-align: right;\">\n",
       "      <th></th>\n",
       "      <th>YEAR</th>\n",
       "      <th>QUARTER</th>\n",
       "      <th>MONTH</th>\n",
       "      <th>DAY_OF_MONTH</th>\n",
       "      <th>DAY_OF_WEEK</th>\n",
       "      <th>FL_DATE</th>\n",
       "      <th>TAIL_NUM</th>\n",
       "      <th>ORIGIN_AIRPORT_ID</th>\n",
       "      <th>ORIGIN</th>\n",
       "      <th>DEST_AIRPORT_ID</th>\n",
       "      <th>...</th>\n",
       "      <th>CRS_ARR_TIME</th>\n",
       "      <th>ARR_DELAY</th>\n",
       "      <th>ARR_DELAY_NEW</th>\n",
       "      <th>ARR_DEL15</th>\n",
       "      <th>ARR_DELAY_GROUP</th>\n",
       "      <th>CANCELLED</th>\n",
       "      <th>DIVERTED</th>\n",
       "      <th>CRS_ELAPSED_TIME</th>\n",
       "      <th>ACTUAL_ELAPSED_TIME</th>\n",
       "      <th>Unnamed: 23</th>\n",
       "    </tr>\n",
       "  </thead>\n",
       "  <tbody>\n",
       "    <tr>\n",
       "      <th>0</th>\n",
       "      <td>2018</td>\n",
       "      <td>1</td>\n",
       "      <td>1</td>\n",
       "      <td>14</td>\n",
       "      <td>7</td>\n",
       "      <td>2018-01-14</td>\n",
       "      <td>N279PQ</td>\n",
       "      <td>15096</td>\n",
       "      <td>SYR</td>\n",
       "      <td>11433</td>\n",
       "      <td>...</td>\n",
       "      <td>735</td>\n",
       "      <td>NaN</td>\n",
       "      <td>NaN</td>\n",
       "      <td>NaN</td>\n",
       "      <td>NaN</td>\n",
       "      <td>1.0</td>\n",
       "      <td>0.0</td>\n",
       "      <td>120.0</td>\n",
       "      <td>NaN</td>\n",
       "      <td>NaN</td>\n",
       "    </tr>\n",
       "    <tr>\n",
       "      <th>1</th>\n",
       "      <td>2018</td>\n",
       "      <td>1</td>\n",
       "      <td>1</td>\n",
       "      <td>3</td>\n",
       "      <td>3</td>\n",
       "      <td>2018-01-03</td>\n",
       "      <td>N8928A</td>\n",
       "      <td>15096</td>\n",
       "      <td>SYR</td>\n",
       "      <td>12953</td>\n",
       "      <td>...</td>\n",
       "      <td>1519</td>\n",
       "      <td>-13.0</td>\n",
       "      <td>0.0</td>\n",
       "      <td>0.0</td>\n",
       "      <td>-1.0</td>\n",
       "      <td>0.0</td>\n",
       "      <td>0.0</td>\n",
       "      <td>81.0</td>\n",
       "      <td>78.0</td>\n",
       "      <td>NaN</td>\n",
       "    </tr>\n",
       "    <tr>\n",
       "      <th>2</th>\n",
       "      <td>2018</td>\n",
       "      <td>1</td>\n",
       "      <td>1</td>\n",
       "      <td>6</td>\n",
       "      <td>6</td>\n",
       "      <td>2018-01-06</td>\n",
       "      <td>N8986B</td>\n",
       "      <td>15096</td>\n",
       "      <td>SYR</td>\n",
       "      <td>12953</td>\n",
       "      <td>...</td>\n",
       "      <td>1519</td>\n",
       "      <td>24.0</td>\n",
       "      <td>24.0</td>\n",
       "      <td>1.0</td>\n",
       "      <td>1.0</td>\n",
       "      <td>0.0</td>\n",
       "      <td>0.0</td>\n",
       "      <td>81.0</td>\n",
       "      <td>93.0</td>\n",
       "      <td>NaN</td>\n",
       "    </tr>\n",
       "    <tr>\n",
       "      <th>3</th>\n",
       "      <td>2018</td>\n",
       "      <td>1</td>\n",
       "      <td>1</td>\n",
       "      <td>7</td>\n",
       "      <td>7</td>\n",
       "      <td>2018-01-07</td>\n",
       "      <td>N8986B</td>\n",
       "      <td>15096</td>\n",
       "      <td>SYR</td>\n",
       "      <td>12953</td>\n",
       "      <td>...</td>\n",
       "      <td>1519</td>\n",
       "      <td>-24.0</td>\n",
       "      <td>0.0</td>\n",
       "      <td>0.0</td>\n",
       "      <td>-2.0</td>\n",
       "      <td>0.0</td>\n",
       "      <td>0.0</td>\n",
       "      <td>81.0</td>\n",
       "      <td>68.0</td>\n",
       "      <td>NaN</td>\n",
       "    </tr>\n",
       "    <tr>\n",
       "      <th>4</th>\n",
       "      <td>2018</td>\n",
       "      <td>1</td>\n",
       "      <td>1</td>\n",
       "      <td>8</td>\n",
       "      <td>1</td>\n",
       "      <td>2018-01-08</td>\n",
       "      <td>N8918B</td>\n",
       "      <td>15096</td>\n",
       "      <td>SYR</td>\n",
       "      <td>12953</td>\n",
       "      <td>...</td>\n",
       "      <td>1519</td>\n",
       "      <td>-10.0</td>\n",
       "      <td>0.0</td>\n",
       "      <td>0.0</td>\n",
       "      <td>-1.0</td>\n",
       "      <td>0.0</td>\n",
       "      <td>0.0</td>\n",
       "      <td>81.0</td>\n",
       "      <td>79.0</td>\n",
       "      <td>NaN</td>\n",
       "    </tr>\n",
       "  </tbody>\n",
       "</table>\n",
       "<p>5 rows × 24 columns</p>\n",
       "</div>"
      ],
      "text/plain": [
       "   YEAR  QUARTER  MONTH  DAY_OF_MONTH  DAY_OF_WEEK     FL_DATE TAIL_NUM  \\\n",
       "0  2018        1      1            14            7  2018-01-14   N279PQ   \n",
       "1  2018        1      1             3            3  2018-01-03   N8928A   \n",
       "2  2018        1      1             6            6  2018-01-06   N8986B   \n",
       "3  2018        1      1             7            7  2018-01-07   N8986B   \n",
       "4  2018        1      1             8            1  2018-01-08   N8918B   \n",
       "\n",
       "   ORIGIN_AIRPORT_ID ORIGIN  DEST_AIRPORT_ID  ... CRS_ARR_TIME  ARR_DELAY  \\\n",
       "0              15096    SYR            11433  ...          735        NaN   \n",
       "1              15096    SYR            12953  ...         1519      -13.0   \n",
       "2              15096    SYR            12953  ...         1519       24.0   \n",
       "3              15096    SYR            12953  ...         1519      -24.0   \n",
       "4              15096    SYR            12953  ...         1519      -10.0   \n",
       "\n",
       "   ARR_DELAY_NEW  ARR_DEL15  ARR_DELAY_GROUP  CANCELLED  DIVERTED  \\\n",
       "0            NaN        NaN              NaN        1.0       0.0   \n",
       "1            0.0        0.0             -1.0        0.0       0.0   \n",
       "2           24.0        1.0              1.0        0.0       0.0   \n",
       "3            0.0        0.0             -2.0        0.0       0.0   \n",
       "4            0.0        0.0             -1.0        0.0       0.0   \n",
       "\n",
       "   CRS_ELAPSED_TIME  ACTUAL_ELAPSED_TIME  Unnamed: 23  \n",
       "0             120.0                  NaN          NaN  \n",
       "1              81.0                 78.0          NaN  \n",
       "2              81.0                 93.0          NaN  \n",
       "3              81.0                 68.0          NaN  \n",
       "4              81.0                 79.0          NaN  \n",
       "\n",
       "[5 rows x 24 columns]"
      ]
     },
     "execution_count": 2,
     "metadata": {},
     "output_type": "execute_result"
    }
   ],
   "source": [
    "df = pd.read_csv('data_18.csv')\n",
    "df.head()"
   ]
  },
  {
   "cell_type": "code",
   "execution_count": 71,
   "metadata": {},
   "outputs": [
    {
     "data": {
      "text/plain": [
       "True"
      ]
     },
     "execution_count": 71,
     "metadata": {},
     "output_type": "execute_result"
    }
   ],
   "source": [
    "df.isnull().values.any()"
   ]
  },
  {
   "cell_type": "code",
   "execution_count": 3,
   "metadata": {},
   "outputs": [
    {
     "data": {
      "text/plain": [
       "YEAR                        0\n",
       "QUARTER                     0\n",
       "MONTH                       0\n",
       "DAY_OF_MONTH                0\n",
       "DAY_OF_WEEK                 0\n",
       "FL_DATE                     0\n",
       "TAIL_NUM                 2759\n",
       "ORIGIN_AIRPORT_ID           0\n",
       "ORIGIN                      0\n",
       "DEST_AIRPORT_ID             0\n",
       "DEST                        0\n",
       "CRS_DEP_TIME                0\n",
       "TAXI_OUT                19708\n",
       "TAXI_IN                 20242\n",
       "CRS_ARR_TIME                0\n",
       "ARR_DELAY               20604\n",
       "ARR_DELAY_NEW           20604\n",
       "ARR_DEL15               20604\n",
       "ARR_DELAY_GROUP         20604\n",
       "CANCELLED                   0\n",
       "DIVERTED                    0\n",
       "CRS_ELAPSED_TIME            0\n",
       "ACTUAL_ELAPSED_TIME     20402\n",
       "Unnamed: 23            621461\n",
       "dtype: int64"
      ]
     },
     "execution_count": 3,
     "metadata": {},
     "output_type": "execute_result"
    }
   ],
   "source": [
    "df.isnull().sum()"
   ]
  },
  {
   "cell_type": "code",
   "execution_count": 4,
   "metadata": {
    "scrolled": true
   },
   "outputs": [
    {
     "data": {
      "text/plain": [
       "YEAR                       0\n",
       "QUARTER                    0\n",
       "MONTH                      0\n",
       "DAY_OF_MONTH               0\n",
       "DAY_OF_WEEK                0\n",
       "ORIGIN_AIRPORT_ID          0\n",
       "ORIGIN                     0\n",
       "DEST_AIRPORT_ID            0\n",
       "DEST                       0\n",
       "CRS_DEP_TIME               0\n",
       "TAXI_OUT               19708\n",
       "TAXI_IN                20242\n",
       "CRS_ARR_TIME               0\n",
       "ARR_DELAY              20604\n",
       "ARR_DEL15              20604\n",
       "ARR_DELAY_GROUP        20604\n",
       "CANCELLED                  0\n",
       "DIVERTED                   0\n",
       "CRS_ELAPSED_TIME           0\n",
       "ACTUAL_ELAPSED_TIME    20402\n",
       "dtype: int64"
      ]
     },
     "execution_count": 4,
     "metadata": {},
     "output_type": "execute_result"
    }
   ],
   "source": [
    "df = df.drop('Unnamed: 23', axis=1)\n",
    "df = df.drop(['ARR_DELAY_NEW','TAIL_NUM','FL_DATE'], axis=1)\n",
    "\n",
    "df.isnull().sum()"
   ]
  },
  {
   "cell_type": "markdown",
   "metadata": {},
   "source": [
    "- Filling Nulls"
   ]
  },
  {
   "cell_type": "code",
   "execution_count": 5,
   "metadata": {},
   "outputs": [],
   "source": [
    "df['ACTUAL_ELAPSED_TIME'].fillna(df['ACTUAL_ELAPSED_TIME'].mean(), inplace=True)\n",
    "df['TAXI_OUT'].fillna(df['TAXI_OUT'].mean(), inplace=True)\n",
    "df['TAXI_IN'].fillna(df['TAXI_IN'].mean(), inplace=True)\n",
    "df['ARR_DELAY_GROUP'].fillna(df['ARR_DELAY_GROUP'].mean(), inplace=True)\n",
    "df['ARR_DELAY'].fillna(df['ARR_DELAY'].mean(), inplace=True)\n",
    "df = df.fillna({'ARR_DEL15': 1})"
   ]
  },
  {
   "cell_type": "code",
   "execution_count": 6,
   "metadata": {},
   "outputs": [
    {
     "data": {
      "text/plain": [
       "YEAR                   0\n",
       "QUARTER                0\n",
       "MONTH                  0\n",
       "DAY_OF_MONTH           0\n",
       "DAY_OF_WEEK            0\n",
       "ORIGIN_AIRPORT_ID      0\n",
       "ORIGIN                 0\n",
       "DEST_AIRPORT_ID        0\n",
       "DEST                   0\n",
       "CRS_DEP_TIME           0\n",
       "TAXI_OUT               0\n",
       "TAXI_IN                0\n",
       "CRS_ARR_TIME           0\n",
       "ARR_DELAY              0\n",
       "ARR_DEL15              0\n",
       "ARR_DELAY_GROUP        0\n",
       "CANCELLED              0\n",
       "DIVERTED               0\n",
       "CRS_ELAPSED_TIME       0\n",
       "ACTUAL_ELAPSED_TIME    0\n",
       "dtype: int64"
      ]
     },
     "execution_count": 6,
     "metadata": {},
     "output_type": "execute_result"
    }
   ],
   "source": [
    "df.isnull().sum()\n"
   ]
  },
  {
   "cell_type": "code",
   "execution_count": 7,
   "metadata": {},
   "outputs": [
    {
     "name": "stdout",
     "output_type": "stream",
     "text": [
      "<class 'pandas.core.frame.DataFrame'>\n",
      "RangeIndex: 621461 entries, 0 to 621460\n",
      "Data columns (total 20 columns):\n",
      "YEAR                   621461 non-null int64\n",
      "QUARTER                621461 non-null int64\n",
      "MONTH                  621461 non-null int64\n",
      "DAY_OF_MONTH           621461 non-null int64\n",
      "DAY_OF_WEEK            621461 non-null int64\n",
      "ORIGIN_AIRPORT_ID      621461 non-null int64\n",
      "ORIGIN                 621461 non-null object\n",
      "DEST_AIRPORT_ID        621461 non-null int64\n",
      "DEST                   621461 non-null object\n",
      "CRS_DEP_TIME           621461 non-null int64\n",
      "TAXI_OUT               621461 non-null float64\n",
      "TAXI_IN                621461 non-null float64\n",
      "CRS_ARR_TIME           621461 non-null int64\n",
      "ARR_DELAY              621461 non-null float64\n",
      "ARR_DEL15              621461 non-null float64\n",
      "ARR_DELAY_GROUP        621461 non-null float64\n",
      "CANCELLED              621461 non-null float64\n",
      "DIVERTED               621461 non-null float64\n",
      "CRS_ELAPSED_TIME       621461 non-null float64\n",
      "ACTUAL_ELAPSED_TIME    621461 non-null float64\n",
      "dtypes: float64(9), int64(9), object(2)\n",
      "memory usage: 94.8+ MB\n"
     ]
    }
   ],
   "source": [
    "df.info()"
   ]
  },
  {
   "cell_type": "markdown",
   "metadata": {},
   "source": [
    "- Label Encoding"
   ]
  },
  {
   "cell_type": "code",
   "execution_count": 8,
   "metadata": {
    "scrolled": true
   },
   "outputs": [
    {
     "data": {
      "text/html": [
       "<div>\n",
       "<style scoped>\n",
       "    .dataframe tbody tr th:only-of-type {\n",
       "        vertical-align: middle;\n",
       "    }\n",
       "\n",
       "    .dataframe tbody tr th {\n",
       "        vertical-align: top;\n",
       "    }\n",
       "\n",
       "    .dataframe thead th {\n",
       "        text-align: right;\n",
       "    }\n",
       "</style>\n",
       "<table border=\"1\" class=\"dataframe\">\n",
       "  <thead>\n",
       "    <tr style=\"text-align: right;\">\n",
       "      <th></th>\n",
       "      <th>YEAR</th>\n",
       "      <th>QUARTER</th>\n",
       "      <th>MONTH</th>\n",
       "      <th>DAY_OF_MONTH</th>\n",
       "      <th>DAY_OF_WEEK</th>\n",
       "      <th>ORIGIN_AIRPORT_ID</th>\n",
       "      <th>ORIGIN</th>\n",
       "      <th>DEST_AIRPORT_ID</th>\n",
       "      <th>DEST</th>\n",
       "      <th>CRS_DEP_TIME</th>\n",
       "      <th>TAXI_OUT</th>\n",
       "      <th>TAXI_IN</th>\n",
       "      <th>CRS_ARR_TIME</th>\n",
       "      <th>ARR_DELAY</th>\n",
       "      <th>ARR_DEL15</th>\n",
       "      <th>ARR_DELAY_GROUP</th>\n",
       "      <th>CANCELLED</th>\n",
       "      <th>DIVERTED</th>\n",
       "      <th>CRS_ELAPSED_TIME</th>\n",
       "      <th>ACTUAL_ELAPSED_TIME</th>\n",
       "    </tr>\n",
       "  </thead>\n",
       "  <tbody>\n",
       "    <tr>\n",
       "      <th>0</th>\n",
       "      <td>2018</td>\n",
       "      <td>1</td>\n",
       "      <td>1</td>\n",
       "      <td>14</td>\n",
       "      <td>7</td>\n",
       "      <td>15096</td>\n",
       "      <td>328</td>\n",
       "      <td>11433</td>\n",
       "      <td>94</td>\n",
       "      <td>535</td>\n",
       "      <td>17.865021</td>\n",
       "      <td>7.490016</td>\n",
       "      <td>735</td>\n",
       "      <td>3.173973</td>\n",
       "      <td>1.0</td>\n",
       "      <td>-0.302366</td>\n",
       "      <td>1.0</td>\n",
       "      <td>0.0</td>\n",
       "      <td>120.0</td>\n",
       "      <td>133.225134</td>\n",
       "    </tr>\n",
       "    <tr>\n",
       "      <th>1</th>\n",
       "      <td>2018</td>\n",
       "      <td>1</td>\n",
       "      <td>1</td>\n",
       "      <td>3</td>\n",
       "      <td>3</td>\n",
       "      <td>15096</td>\n",
       "      <td>328</td>\n",
       "      <td>12953</td>\n",
       "      <td>191</td>\n",
       "      <td>1358</td>\n",
       "      <td>22.000000</td>\n",
       "      <td>14.000000</td>\n",
       "      <td>1519</td>\n",
       "      <td>-13.000000</td>\n",
       "      <td>0.0</td>\n",
       "      <td>-1.000000</td>\n",
       "      <td>0.0</td>\n",
       "      <td>0.0</td>\n",
       "      <td>81.0</td>\n",
       "      <td>78.000000</td>\n",
       "    </tr>\n",
       "    <tr>\n",
       "      <th>2</th>\n",
       "      <td>2018</td>\n",
       "      <td>1</td>\n",
       "      <td>1</td>\n",
       "      <td>6</td>\n",
       "      <td>6</td>\n",
       "      <td>15096</td>\n",
       "      <td>328</td>\n",
       "      <td>12953</td>\n",
       "      <td>191</td>\n",
       "      <td>1358</td>\n",
       "      <td>41.000000</td>\n",
       "      <td>7.000000</td>\n",
       "      <td>1519</td>\n",
       "      <td>24.000000</td>\n",
       "      <td>1.0</td>\n",
       "      <td>1.000000</td>\n",
       "      <td>0.0</td>\n",
       "      <td>0.0</td>\n",
       "      <td>81.0</td>\n",
       "      <td>93.000000</td>\n",
       "    </tr>\n",
       "    <tr>\n",
       "      <th>3</th>\n",
       "      <td>2018</td>\n",
       "      <td>1</td>\n",
       "      <td>1</td>\n",
       "      <td>7</td>\n",
       "      <td>7</td>\n",
       "      <td>15096</td>\n",
       "      <td>328</td>\n",
       "      <td>12953</td>\n",
       "      <td>191</td>\n",
       "      <td>1358</td>\n",
       "      <td>12.000000</td>\n",
       "      <td>18.000000</td>\n",
       "      <td>1519</td>\n",
       "      <td>-24.000000</td>\n",
       "      <td>0.0</td>\n",
       "      <td>-2.000000</td>\n",
       "      <td>0.0</td>\n",
       "      <td>0.0</td>\n",
       "      <td>81.0</td>\n",
       "      <td>68.000000</td>\n",
       "    </tr>\n",
       "    <tr>\n",
       "      <th>4</th>\n",
       "      <td>2018</td>\n",
       "      <td>1</td>\n",
       "      <td>1</td>\n",
       "      <td>8</td>\n",
       "      <td>1</td>\n",
       "      <td>15096</td>\n",
       "      <td>328</td>\n",
       "      <td>12953</td>\n",
       "      <td>191</td>\n",
       "      <td>1358</td>\n",
       "      <td>17.000000</td>\n",
       "      <td>23.000000</td>\n",
       "      <td>1519</td>\n",
       "      <td>-10.000000</td>\n",
       "      <td>0.0</td>\n",
       "      <td>-1.000000</td>\n",
       "      <td>0.0</td>\n",
       "      <td>0.0</td>\n",
       "      <td>81.0</td>\n",
       "      <td>79.000000</td>\n",
       "    </tr>\n",
       "  </tbody>\n",
       "</table>\n",
       "</div>"
      ],
      "text/plain": [
       "   YEAR  QUARTER  MONTH  DAY_OF_MONTH  DAY_OF_WEEK  ORIGIN_AIRPORT_ID  ORIGIN  \\\n",
       "0  2018        1      1            14            7              15096     328   \n",
       "1  2018        1      1             3            3              15096     328   \n",
       "2  2018        1      1             6            6              15096     328   \n",
       "3  2018        1      1             7            7              15096     328   \n",
       "4  2018        1      1             8            1              15096     328   \n",
       "\n",
       "   DEST_AIRPORT_ID  DEST  CRS_DEP_TIME   TAXI_OUT    TAXI_IN  CRS_ARR_TIME  \\\n",
       "0            11433    94           535  17.865021   7.490016           735   \n",
       "1            12953   191          1358  22.000000  14.000000          1519   \n",
       "2            12953   191          1358  41.000000   7.000000          1519   \n",
       "3            12953   191          1358  12.000000  18.000000          1519   \n",
       "4            12953   191          1358  17.000000  23.000000          1519   \n",
       "\n",
       "   ARR_DELAY  ARR_DEL15  ARR_DELAY_GROUP  CANCELLED  DIVERTED  \\\n",
       "0   3.173973        1.0        -0.302366        1.0       0.0   \n",
       "1 -13.000000        0.0        -1.000000        0.0       0.0   \n",
       "2  24.000000        1.0         1.000000        0.0       0.0   \n",
       "3 -24.000000        0.0        -2.000000        0.0       0.0   \n",
       "4 -10.000000        0.0        -1.000000        0.0       0.0   \n",
       "\n",
       "   CRS_ELAPSED_TIME  ACTUAL_ELAPSED_TIME  \n",
       "0             120.0           133.225134  \n",
       "1              81.0            78.000000  \n",
       "2              81.0            93.000000  \n",
       "3              81.0            68.000000  \n",
       "4              81.0            79.000000  "
      ]
     },
     "execution_count": 8,
     "metadata": {},
     "output_type": "execute_result"
    }
   ],
   "source": [
    "labelEncoder = LabelEncoder()\n",
    "labelEncoder.fit(df['ORIGIN'])\n",
    "labelEncoder.fit(df['DEST'])\n",
    "df['ORIGIN'] = labelEncoder.transform(df['ORIGIN'])\n",
    "df['DEST'] = labelEncoder.transform(df['DEST'])\n",
    "#df = pd.get_dummies(df, columns=['ORIGIN', 'DEST'])\n",
    "df.head()"
   ]
  },
  {
   "cell_type": "code",
   "execution_count": 10,
   "metadata": {},
   "outputs": [
    {
     "name": "stdout",
     "output_type": "stream",
     "text": [
      "<class 'pandas.core.frame.DataFrame'>\n",
      "Int64Index: 206568 entries, 2 to 621457\n",
      "Data columns (total 20 columns):\n",
      "YEAR                   206568 non-null int64\n",
      "QUARTER                206568 non-null int64\n",
      "MONTH                  206568 non-null int64\n",
      "DAY_OF_MONTH           206568 non-null int64\n",
      "DAY_OF_WEEK            206568 non-null int64\n",
      "ORIGIN_AIRPORT_ID      206568 non-null int64\n",
      "ORIGIN                 206568 non-null int32\n",
      "DEST_AIRPORT_ID        206568 non-null int64\n",
      "DEST                   206568 non-null int32\n",
      "CRS_DEP_TIME           206568 non-null int64\n",
      "TAXI_OUT               206568 non-null float64\n",
      "TAXI_IN                206568 non-null float64\n",
      "CRS_ARR_TIME           206568 non-null int64\n",
      "ARR_DELAY              206568 non-null float64\n",
      "ARR_DEL15              206568 non-null float64\n",
      "ARR_DELAY_GROUP        206568 non-null float64\n",
      "CANCELLED              206568 non-null float64\n",
      "DIVERTED               206568 non-null float64\n",
      "CRS_ELAPSED_TIME       206568 non-null float64\n",
      "ACTUAL_ELAPSED_TIME    206568 non-null float64\n",
      "dtypes: float64(9), int32(2), int64(9)\n",
      "memory usage: 31.5 MB\n"
     ]
    }
   ],
   "source": [
    "df.drop(df.index[df['ARR_DELAY_GROUP'] < 0], inplace = True)\n",
    "#df.drop(df.index[df['ARR_DEL15 '] == 0], inplace = True)\n",
    "\n",
    "\n",
    "df.info()"
   ]
  },
  {
   "cell_type": "markdown",
   "metadata": {},
   "source": [
    "### - I selected the ARR_DELAY_GROUP to be the target label as it maps the delay interval into groups , it was having negative values I dropped them, the lables are  (0,1,2,3,4,5,6,7,8,9,10,11,12)"
   ]
  },
  {
   "cell_type": "markdown",
   "metadata": {},
   "source": [
    "## Decision Tree Model"
   ]
  },
  {
   "cell_type": "code",
   "execution_count": 14,
   "metadata": {},
   "outputs": [],
   "source": [
    "x = df.drop(['ARR_DELAY_GROUP','ARR_DEL15'], axis=1)\n",
    "y =  df['ARR_DELAY_GROUP']"
   ]
  },
  {
   "cell_type": "markdown",
   "metadata": {},
   "source": [
    "## Using ensembling to determine the importance of the features "
   ]
  },
  {
   "cell_type": "code",
   "execution_count": 15,
   "metadata": {},
   "outputs": [
    {
     "name": "stderr",
     "output_type": "stream",
     "text": [
      "C:\\Users\\win10\\Anaconda3\\lib\\site-packages\\sklearn\\ensemble\\forest.py:246: FutureWarning: The default value of n_estimators will change from 10 in version 0.20 to 100 in 0.22.\n",
      "  \"10 in version 0.20 to 100 in 0.22.\", FutureWarning)\n"
     ]
    },
    {
     "name": "stdout",
     "output_type": "stream",
     "text": [
      "[0.         0.         0.         0.02664561 0.01556208 0.03475044\n",
      " 0.03488448 0.03477781 0.0348633  0.04291781 0.05499353 0.04318653\n",
      " 0.04260536 0.54820974 0.         0.         0.04205054 0.04455278]\n"
     ]
    },
    {
     "data": {
      "image/png": "[encoded data removed]",
      "text/plain": [
       "<Figure size 432x288 with 1 Axes>"
      ]
     },
     "metadata": {
      "needs_background": "light"
     },
     "output_type": "display_data"
    }
   ],
   "source": [
    "import pandas as pd\n",
    "import numpy as np\n",
    "from sklearn.ensemble import ExtraTreesClassifier\n",
    "import matplotlib.pyplot as plt\n",
    "model = ExtraTreesClassifier()\n",
    "model.fit(x,y)\n",
    "print(model.feature_importances_) \n",
    "feat_importances = pd.Series(model.feature_importances_, index=x.columns)\n",
    "feat_importances.nlargest(10).plot(kind='barh')\n",
    "plt.show()"
   ]
  },
  {
   "cell_type": "code",
   "execution_count": 41,
   "metadata": {},
   "outputs": [
    {
     "name": "stdout",
     "output_type": "stream",
     "text": [
      "Mean cross validation score is: 0.8647829321523777\n"
     ]
    },
    {
     "data": {
      "text/plain": [
       "DecisionTreeClassifier(class_weight=None, criterion='gini', max_depth=4,\n",
       "            max_features=None, max_leaf_nodes=None,\n",
       "            min_impurity_decrease=0.0, min_impurity_split=None,\n",
       "            min_samples_leaf=1, min_samples_split=2,\n",
       "            min_weight_fraction_leaf=0.0, presort=False, random_state=None,\n",
       "            splitter='best')"
      ]
     },
     "execution_count": 41,
     "metadata": {},
     "output_type": "execute_result"
    }
   ],
   "source": [
    "X_train_c, X_test_c, y_train_c, y_test_c= train_test_split(x, y, test_size=0.3, random_state=42)\n",
    "\n",
    "# Instantiate dt\n",
    "dt = DecisionTreeClassifier(max_depth=4)\n",
    "cvScores = cross_val_score(dt, X_train_c, y_train_c, cv=20)\n",
    "print ('Mean cross validation score is: ' + str(np.mean(cvScores)))\n",
    "\n",
    "# Fit dt to the training set\n",
    "dt.fit(X_train_c,y_train_c)"
   ]
  },
  {
   "cell_type": "code",
   "execution_count": 37,
   "metadata": {},
   "outputs": [],
   "source": [
    "\n",
    "# dt = DecisionTreeClassifier()\n",
    "\n",
    "# param_grid = {\n",
    "#                  'max_depth': [2,4],\n",
    "#                 'min_samples_split': [2, 4],\n",
    "#                'min_samples_leaf': [2, 4],\n",
    "#                'max_features': ['sqrt', 'log2'],\n",
    "#                  \"criterion\" : [\"gini\"]\n",
    "#              }\n",
    "\n",
    "# grid_dt = GridSearchCV(dt, param_grid, cv=20)\n",
    "# grid_dt.fit(X_train_c, y_train_c)\n",
    "# #bestModel = grid_rf.best_estimator_\n",
    "# bestParameters = grid_dt.best_params_\n",
    "# gridScores = grid_dt.cv_results_"
   ]
  },
  {
   "cell_type": "code",
   "execution_count": 38,
   "metadata": {},
   "outputs": [],
   "source": [
    "# #print(bestModel)\n",
    "# print(bestParameters)\n",
    "# gridScores"
   ]
  },
  {
   "cell_type": "code",
   "execution_count": 36,
   "metadata": {},
   "outputs": [],
   "source": [
    "#dt = DecisionTreeClassifier(max_depth = bestParameters.get('max_depth'), \n",
    "#                           min_samples_split=bestParameters.get('min_samples_split'),\n",
    "#                          min_samples_leaf = bestParameters.get('min_samples_leaf'),\n",
    "#                          max_features = bestParameters.get('max_features'),\n",
    "#                           criterion = bestParameters.get('criterion'))\n",
    "\n",
    "#cv = KFold(n_splits=20, shuffle=True, random_state=2)\n",
    "#cvScores = cross_val_score(dt, X_train_c, y_train_c, cv=cv)\n",
    "#print ('Mean cross validation score is: ' + str(np.mean(cvScores)))\n",
    "#dt.fit(X_train_c, y_train_c)\n",
    "#print('Random forest training and testing with with non-redundant variables took [', \n",
    "    #  datetime.now() - startTimeRF, '] seconds.')"
   ]
  },
  {
   "cell_type": "markdown",
   "metadata": {},
   "source": []
  },
  {
   "cell_type": "code",
   "execution_count": null,
   "metadata": {},
   "outputs": [],
   "source": []
  },
  {
   "cell_type": "code",
   "execution_count": 42,
   "metadata": {},
   "outputs": [
    {
     "name": "stdout",
     "output_type": "stream",
     "text": [
      "Test_accuracy=0.8632102112278324\n"
     ]
    },
    {
     "data": {
      "image/png": "[encoded data removed]",
      "text/plain": [
       "<Figure size 720x720 with 1 Axes>"
      ]
     },
     "metadata": {
      "needs_background": "light"
     },
     "output_type": "display_data"
    }
   ],
   "source": [
    "from mlxtend.plotting import plot_confusion_matrix\n",
    "Y_dt_pred = dt.predict(X_test_c)\n",
    "Test_acc_dt =accuracy_score(y_test_c, Y_dt_pred)\n",
    "conf1= confusion_matrix(y_test_c, Y_dt_pred)\n",
    "fig, ax = plot_confusion_matrix(conf_mat=conf1, figsize=(10, 10))\n",
    "print(\"Test_accuracy=\" + str(Test_acc_dt))\n",
    "plt.show()\n"
   ]
  },
  {
   "cell_type": "markdown",
   "metadata": {},
   "source": [
    "<span style=\"color:red\"> *- This confusion matrix seems unlogic and has something wrong and that's because having low precision and low recall values.* </span>"
   ]
  },
  {
   "cell_type": "code",
   "execution_count": 44,
   "metadata": {},
   "outputs": [
    {
     "name": "stderr",
     "output_type": "stream",
     "text": [
      "C:\\Users\\win10\\Anaconda3\\lib\\site-packages\\sklearn\\metrics\\classification.py:1143: UndefinedMetricWarning: Precision and F-score are ill-defined and being set to 0.0 in labels with no predicted samples.\n",
      "  'precision', 'predicted', average, warn_for)\n"
     ]
    },
    {
     "data": {
      "text/plain": [
       "(0.3248630779099028, 0.38461538461538464, 0.3357670122221774, None)"
      ]
     },
     "execution_count": 44,
     "metadata": {},
     "output_type": "execute_result"
    }
   ],
   "source": [
    "from sklearn.metrics import precision_recall_fscore_support\n",
    "precision_recall_fscore_support(y_test_c, Y_dt_pred, average='macro')"
   ]
  },
  {
   "cell_type": "markdown",
   "metadata": {},
   "source": [
    "<span style=\"color:blue\"> *- Values of percision and recall are too small, a situation of Low Precision emerges when very few of the positive predictions are true, and Low Recall occurs if most of the positive values are never predicted. In conclusion the DT model needs more feature engineering and parameters tuning* </span>\n"
   ]
  },
  {
   "cell_type": "code",
   "execution_count": 28,
   "metadata": {},
   "outputs": [],
   "source": [
    "def plot_roc_curve(fpr, tpr):\n",
    "    plt.plot(fpr, tpr, color='orange', label='ROC')\n",
    "    plt.plot([0, 1], [0, 1], color='darkblue', linestyle='--')\n",
    "    plt.xlabel('False Positive Rate')\n",
    "    plt.ylabel('True Positive Rate')\n",
    "    plt.title('Receiver Operating Characteristic (ROC) Curve')\n",
    "    plt.legend()\n",
    "    plt.show()"
   ]
  },
  {
   "cell_type": "markdown",
   "metadata": {},
   "source": [
    "### Multi class format not supported by ROC curve"
   ]
  },
  {
   "cell_type": "code",
   "execution_count": 31,
   "metadata": {},
   "outputs": [],
   "source": [
    "\n",
    "#auc1 = roc_auc_score(y_test_c, Y_dt_pred)\n",
    "\n",
    "#print('AUC1: %.2f' % auc1)\n"
   ]
  },
  {
   "cell_type": "markdown",
   "metadata": {},
   "source": [
    "## Random Forest"
   ]
  },
  {
   "cell_type": "code",
   "execution_count": 21,
   "metadata": {},
   "outputs": [],
   "source": [
    "\n",
    "x = df.drop(['ARR_DELAY_GROUP','ARR_DEL15'], axis=1)\n",
    "y =  df['ARR_DELAY_GROUP']\n",
    "X_train, X_test, y_train, y_test= train_test_split(x,y, test_size=0.2, random_state=42)"
   ]
  },
  {
   "cell_type": "markdown",
   "metadata": {},
   "source": [
    "## I used GridSearch to find the best model and best parameters for Random Forest"
   ]
  },
  {
   "cell_type": "code",
   "execution_count": 22,
   "metadata": {},
   "outputs": [
    {
     "name": "stdout",
     "output_type": "stream",
     "text": [
      "Random forest Grid Search with non-redundant variables took [ 0:00:52.096718 ] seconds.\n"
     ]
    }
   ],
   "source": [
    "startTimeGS = datetime.now()\n",
    "from sklearn.model_selection import GridSearchCV\n",
    "from sklearn.ensemble import RandomForestRegressor\n",
    "\n",
    "SEED = 1\n",
    "\n",
    "#rf = RandomForestRegressor(n_estimators=600, min_samples_leaf=0.05,random_state=SEED)\n",
    "\n",
    "#from sklearn.grid_search import GridSearchCV\n",
    "rf = RandomForestClassifier()\n",
    "param_grid = {\n",
    "                 'n_estimators': [10],\n",
    "#                 'min_samples_split': [2, 4],\n",
    "#                 'min_samples_leaf': [2, 4],\n",
    "#                 'max_features': ['sqrt', 'log2'],\n",
    "                 \"criterion\" : [\"gini\"]\n",
    "             }\n",
    "grid_rf = GridSearchCV(rf, param_grid, cv=20)\n",
    "grid_rf.fit(X_train, y_train)\n",
    "bestModel = grid_rf.best_estimator_\n",
    "bestParameters = grid_rf.best_params_\n",
    "gridScores = grid_rf.cv_results_\n",
    "print('Random forest Grid Search with non-redundant variables took [', datetime.now() - startTimeGS, '] seconds.')"
   ]
  },
  {
   "cell_type": "code",
   "execution_count": 23,
   "metadata": {},
   "outputs": [
    {
     "name": "stdout",
     "output_type": "stream",
     "text": [
      "RandomForestClassifier(bootstrap=True, class_weight=None, criterion='gini',\n",
      "            max_depth=None, max_features='auto', max_leaf_nodes=None,\n",
      "            min_impurity_decrease=0.0, min_impurity_split=None,\n",
      "            min_samples_leaf=1, min_samples_split=2,\n",
      "            min_weight_fraction_leaf=0.0, n_estimators=10, n_jobs=None,\n",
      "            oob_score=False, random_state=None, verbose=0,\n",
      "            warm_start=False)\n",
      "{'criterion': 'gini', 'n_estimators': 10}\n"
     ]
    },
    {
     "name": "stderr",
     "output_type": "stream",
     "text": [
      "C:\\Users\\win10\\Anaconda3\\lib\\site-packages\\sklearn\\utils\\deprecation.py:125: FutureWarning: You are accessing a training score ('split0_train_score'), which will not be available by default any more in 0.21. If you need training scores, please set return_train_score=True\n",
      "  warnings.warn(*warn_args, **warn_kwargs)\n",
      "C:\\Users\\win10\\Anaconda3\\lib\\site-packages\\sklearn\\utils\\deprecation.py:125: FutureWarning: You are accessing a training score ('split1_train_score'), which will not be available by default any more in 0.21. If you need training scores, please set return_train_score=True\n",
      "  warnings.warn(*warn_args, **warn_kwargs)\n",
      "C:\\Users\\win10\\Anaconda3\\lib\\site-packages\\sklearn\\utils\\deprecation.py:125: FutureWarning: You are accessing a training score ('split2_train_score'), which will not be available by default any more in 0.21. If you need training scores, please set return_train_score=True\n",
      "  warnings.warn(*warn_args, **warn_kwargs)\n",
      "C:\\Users\\win10\\Anaconda3\\lib\\site-packages\\sklearn\\utils\\deprecation.py:125: FutureWarning: You are accessing a training score ('split3_train_score'), which will not be available by default any more in 0.21. If you need training scores, please set return_train_score=True\n",
      "  warnings.warn(*warn_args, **warn_kwargs)\n",
      "C:\\Users\\win10\\Anaconda3\\lib\\site-packages\\sklearn\\utils\\deprecation.py:125: FutureWarning: You are accessing a training score ('split4_train_score'), which will not be available by default any more in 0.21. If you need training scores, please set return_train_score=True\n",
      "  warnings.warn(*warn_args, **warn_kwargs)\n",
      "C:\\Users\\win10\\Anaconda3\\lib\\site-packages\\sklearn\\utils\\deprecation.py:125: FutureWarning: You are accessing a training score ('split5_train_score'), which will not be available by default any more in 0.21. If you need training scores, please set return_train_score=True\n",
      "  warnings.warn(*warn_args, **warn_kwargs)\n",
      "C:\\Users\\win10\\Anaconda3\\lib\\site-packages\\sklearn\\utils\\deprecation.py:125: FutureWarning: You are accessing a training score ('split6_train_score'), which will not be available by default any more in 0.21. If you need training scores, please set return_train_score=True\n",
      "  warnings.warn(*warn_args, **warn_kwargs)\n",
      "C:\\Users\\win10\\Anaconda3\\lib\\site-packages\\sklearn\\utils\\deprecation.py:125: FutureWarning: You are accessing a training score ('split7_train_score'), which will not be available by default any more in 0.21. If you need training scores, please set return_train_score=True\n",
      "  warnings.warn(*warn_args, **warn_kwargs)\n",
      "C:\\Users\\win10\\Anaconda3\\lib\\site-packages\\sklearn\\utils\\deprecation.py:125: FutureWarning: You are accessing a training score ('split8_train_score'), which will not be available by default any more in 0.21. If you need training scores, please set return_train_score=True\n",
      "  warnings.warn(*warn_args, **warn_kwargs)\n",
      "C:\\Users\\win10\\Anaconda3\\lib\\site-packages\\sklearn\\utils\\deprecation.py:125: FutureWarning: You are accessing a training score ('split9_train_score'), which will not be available by default any more in 0.21. If you need training scores, please set return_train_score=True\n",
      "  warnings.warn(*warn_args, **warn_kwargs)\n",
      "C:\\Users\\win10\\Anaconda3\\lib\\site-packages\\sklearn\\utils\\deprecation.py:125: FutureWarning: You are accessing a training score ('split10_train_score'), which will not be available by default any more in 0.21. If you need training scores, please set return_train_score=True\n",
      "  warnings.warn(*warn_args, **warn_kwargs)\n",
      "C:\\Users\\win10\\Anaconda3\\lib\\site-packages\\sklearn\\utils\\deprecation.py:125: FutureWarning: You are accessing a training score ('split11_train_score'), which will not be available by default any more in 0.21. If you need training scores, please set return_train_score=True\n",
      "  warnings.warn(*warn_args, **warn_kwargs)\n",
      "C:\\Users\\win10\\Anaconda3\\lib\\site-packages\\sklearn\\utils\\deprecation.py:125: FutureWarning: You are accessing a training score ('split12_train_score'), which will not be available by default any more in 0.21. If you need training scores, please set return_train_score=True\n",
      "  warnings.warn(*warn_args, **warn_kwargs)\n",
      "C:\\Users\\win10\\Anaconda3\\lib\\site-packages\\sklearn\\utils\\deprecation.py:125: FutureWarning: You are accessing a training score ('split13_train_score'), which will not be available by default any more in 0.21. If you need training scores, please set return_train_score=True\n",
      "  warnings.warn(*warn_args, **warn_kwargs)\n",
      "C:\\Users\\win10\\Anaconda3\\lib\\site-packages\\sklearn\\utils\\deprecation.py:125: FutureWarning: You are accessing a training score ('split14_train_score'), which will not be available by default any more in 0.21. If you need training scores, please set return_train_score=True\n",
      "  warnings.warn(*warn_args, **warn_kwargs)\n",
      "C:\\Users\\win10\\Anaconda3\\lib\\site-packages\\sklearn\\utils\\deprecation.py:125: FutureWarning: You are accessing a training score ('split15_train_score'), which will not be available by default any more in 0.21. If you need training scores, please set return_train_score=True\n",
      "  warnings.warn(*warn_args, **warn_kwargs)\n",
      "C:\\Users\\win10\\Anaconda3\\lib\\site-packages\\sklearn\\utils\\deprecation.py:125: FutureWarning: You are accessing a training score ('split16_train_score'), which will not be available by default any more in 0.21. If you need training scores, please set return_train_score=True\n",
      "  warnings.warn(*warn_args, **warn_kwargs)\n",
      "C:\\Users\\win10\\Anaconda3\\lib\\site-packages\\sklearn\\utils\\deprecation.py:125: FutureWarning: You are accessing a training score ('split17_train_score'), which will not be available by default any more in 0.21. If you need training scores, please set return_train_score=True\n",
      "  warnings.warn(*warn_args, **warn_kwargs)\n",
      "C:\\Users\\win10\\Anaconda3\\lib\\site-packages\\sklearn\\utils\\deprecation.py:125: FutureWarning: You are accessing a training score ('split18_train_score'), which will not be available by default any more in 0.21. If you need training scores, please set return_train_score=True\n",
      "  warnings.warn(*warn_args, **warn_kwargs)\n",
      "C:\\Users\\win10\\Anaconda3\\lib\\site-packages\\sklearn\\utils\\deprecation.py:125: FutureWarning: You are accessing a training score ('split19_train_score'), which will not be available by default any more in 0.21. If you need training scores, please set return_train_score=True\n",
      "  warnings.warn(*warn_args, **warn_kwargs)\n",
      "C:\\Users\\win10\\Anaconda3\\lib\\site-packages\\sklearn\\utils\\deprecation.py:125: FutureWarning: You are accessing a training score ('mean_train_score'), which will not be available by default any more in 0.21. If you need training scores, please set return_train_score=True\n",
      "  warnings.warn(*warn_args, **warn_kwargs)\n",
      "C:\\Users\\win10\\Anaconda3\\lib\\site-packages\\sklearn\\utils\\deprecation.py:125: FutureWarning: You are accessing a training score ('std_train_score'), which will not be available by default any more in 0.21. If you need training scores, please set return_train_score=True\n",
      "  warnings.warn(*warn_args, **warn_kwargs)\n"
     ]
    },
    {
     "data": {
      "text/plain": [
       "{'mean_fit_time': array([1.98933188]),\n",
       " 'std_fit_time': array([0.17252753]),\n",
       " 'mean_score_time': array([0.02020721]),\n",
       " 'std_score_time': array([0.00252074]),\n",
       " 'param_criterion': masked_array(data=['gini'],\n",
       "              mask=[False],\n",
       "        fill_value='?',\n",
       "             dtype=object),\n",
       " 'param_n_estimators': masked_array(data=[10],\n",
       "              mask=[False],\n",
       "        fill_value='?',\n",
       "             dtype=object),\n",
       " 'params': [{'criterion': 'gini', 'n_estimators': 10}],\n",
       " 'split0_test_score': array([0.94376587]),\n",
       " 'split1_test_score': array([0.93638892]),\n",
       " 'split2_test_score': array([0.94328214]),\n",
       " 'split3_test_score': array([0.9276817]),\n",
       " 'split4_test_score': array([0.95489176]),\n",
       " 'split5_test_score': array([0.94749577]),\n",
       " 'split6_test_score': array([0.93138085]),\n",
       " 'split7_test_score': array([0.94796079]),\n",
       " 'split8_test_score': array([0.9553431]),\n",
       " 'split9_test_score': array([0.9469862]),\n",
       " 'split10_test_score': array([0.94081336]),\n",
       " 'split11_test_score': array([0.94044305]),\n",
       " 'split12_test_score': array([0.95194286]),\n",
       " 'split13_test_score': array([0.94224482]),\n",
       " 'split14_test_score': array([0.95398959]),\n",
       " 'split15_test_score': array([0.96173871]),\n",
       " 'split16_test_score': array([0.93788594]),\n",
       " 'split17_test_score': array([0.9542262]),\n",
       " 'split18_test_score': array([0.93799952]),\n",
       " 'split19_test_score': array([0.9370155]),\n",
       " 'mean_test_score': array([0.94467305]),\n",
       " 'std_test_score': array([0.00862925]),\n",
       " 'rank_test_score': array([1]),\n",
       " 'split0_train_score': array([0.9995541]),\n",
       " 'split1_train_score': array([0.9996178]),\n",
       " 'split2_train_score': array([0.99952862]),\n",
       " 'split3_train_score': array([0.99948403]),\n",
       " 'split4_train_score': array([0.99973246]),\n",
       " 'split5_train_score': array([0.99954774]),\n",
       " 'split6_train_score': array([0.99955411]),\n",
       " 'split7_train_score': array([0.9996624]),\n",
       " 'split8_train_score': array([0.99971336]),\n",
       " 'split9_train_score': array([0.99960508]),\n",
       " 'split10_train_score': array([0.99964966]),\n",
       " 'split11_train_score': array([0.99959234]),\n",
       " 'split12_train_score': array([0.99969425]),\n",
       " 'split13_train_score': array([0.99956687]),\n",
       " 'split14_train_score': array([0.99965604]),\n",
       " 'split15_train_score': array([0.99962419]),\n",
       " 'split16_train_score': array([0.99956687]),\n",
       " 'split17_train_score': array([0.99966241]),\n",
       " 'split18_train_score': array([0.99957961]),\n",
       " 'split19_train_score': array([0.99963057]),\n",
       " 'mean_train_score': array([0.99961112]),\n",
       " 'std_train_score': array([6.33333185e-05])}"
      ]
     },
     "execution_count": 23,
     "metadata": {},
     "output_type": "execute_result"
    }
   ],
   "source": [
    "print(bestModel)\n",
    "print(bestParameters)\n",
    "gridScores"
   ]
  },
  {
   "cell_type": "code",
   "execution_count": 24,
   "metadata": {},
   "outputs": [
    {
     "name": "stdout",
     "output_type": "stream",
     "text": [
      "Mean cross validation score is: 0.9452601239867532\n",
      "Random forest training and testing with with non-redundant variables took [ 0:00:39.805581 ] seconds.\n"
     ]
    }
   ],
   "source": [
    "from sklearn.model_selection import cross_validate\n",
    "from sklearn.model_selection import KFold\n",
    "import numpy as np\n",
    "startTimeRF = datetime.now()\n",
    "rf = RandomForestClassifier(n_estimators = bestParameters.get('n_estimators'), \n",
    "#                            min_samples_split=bestParameters.get('min_samples_split'),\n",
    "#                           min_samples_leaf = bestParameters.get('min_samples_leaf'),\n",
    "#                           max_features = bestParameters.get('max_features'),\n",
    "                           criterion = bestParameters.get('criterion'))\n",
    "\n",
    "cv = KFold(n_splits=20, shuffle=True, random_state=2)\n",
    "cvScores = cross_val_score(rf, X_train, y_train, cv=cv)\n",
    "print ('Mean cross validation score is: ' + str(np.mean(cvScores)))\n",
    "rf.fit(X_train, y_train)\n",
    "print('Random forest training and testing with with non-redundant variables took [', \n",
    "      datetime.now() - startTimeRF, '] seconds.')"
   ]
  },
  {
   "cell_type": "code",
   "execution_count": 25,
   "metadata": {},
   "outputs": [
    {
     "name": "stdout",
     "output_type": "stream",
     "text": [
      "Test_accuracy=0.9308708912233141\n"
     ]
    },
    {
     "data": {
      "image/png": "[encoded data removed]",
      "text/plain": [
       "<Figure size 720x720 with 1 Axes>"
      ]
     },
     "metadata": {
      "needs_background": "light"
     },
     "output_type": "display_data"
    }
   ],
   "source": [
    "Y_rf_pred = rf.predict(X_test)\n",
    "Test_acc_rf =accuracy_score(y_test, Y_rf_pred)\n",
    "conf= confusion_matrix(y_test, Y_rf_pred)\n",
    "fig, ax = plot_confusion_matrix(conf_mat=conf, figsize=(10, 10))\n",
    "print('Test_accuracy='+str(Test_acc_rf))\n",
    "plt.show()"
   ]
  },
  {
   "cell_type": "code",
   "execution_count": 45,
   "metadata": {},
   "outputs": [
    {
     "data": {
      "text/plain": [
       "(0.6549104718312113, 0.6169351537513327, 0.6215119359601349, None)"
      ]
     },
     "execution_count": 45,
     "metadata": {},
     "output_type": "execute_result"
    }
   ],
   "source": [
    "precision_recall_fscore_support(y_test, Y_rf_pred, average='macro')"
   ]
  },
  {
   "cell_type": "markdown",
   "metadata": {},
   "source": [
    "## Predicting using 2019 data"
   ]
  },
  {
   "cell_type": "markdown",
   "metadata": {},
   "source": [
    "#### Applying the same preprocessing steps like 2018 data"
   ]
  },
  {
   "cell_type": "code",
   "execution_count": 26,
   "metadata": {},
   "outputs": [
    {
     "data": {
      "text/html": [
       "<div>\n",
       "<style scoped>\n",
       "    .dataframe tbody tr th:only-of-type {\n",
       "        vertical-align: middle;\n",
       "    }\n",
       "\n",
       "    .dataframe tbody tr th {\n",
       "        vertical-align: top;\n",
       "    }\n",
       "\n",
       "    .dataframe thead th {\n",
       "        text-align: right;\n",
       "    }\n",
       "</style>\n",
       "<table border=\"1\" class=\"dataframe\">\n",
       "  <thead>\n",
       "    <tr style=\"text-align: right;\">\n",
       "      <th></th>\n",
       "      <th>YEAR</th>\n",
       "      <th>QUARTER</th>\n",
       "      <th>MONTH</th>\n",
       "      <th>DAY_OF_MONTH</th>\n",
       "      <th>DAY_OF_WEEK</th>\n",
       "      <th>FL_DATE</th>\n",
       "      <th>TAIL_NUM</th>\n",
       "      <th>ORIGIN_AIRPORT_ID</th>\n",
       "      <th>ORIGIN</th>\n",
       "      <th>DEST_AIRPORT_ID</th>\n",
       "      <th>...</th>\n",
       "      <th>CRS_ARR_TIME</th>\n",
       "      <th>ARR_DELAY</th>\n",
       "      <th>ARR_DELAY_NEW</th>\n",
       "      <th>ARR_DEL15</th>\n",
       "      <th>ARR_DELAY_GROUP</th>\n",
       "      <th>CANCELLED</th>\n",
       "      <th>DIVERTED</th>\n",
       "      <th>CRS_ELAPSED_TIME</th>\n",
       "      <th>ACTUAL_ELAPSED_TIME</th>\n",
       "      <th>Unnamed: 23</th>\n",
       "    </tr>\n",
       "  </thead>\n",
       "  <tbody>\n",
       "    <tr>\n",
       "      <th>0</th>\n",
       "      <td>2019</td>\n",
       "      <td>1</td>\n",
       "      <td>1</td>\n",
       "      <td>11</td>\n",
       "      <td>5</td>\n",
       "      <td>2019-01-11</td>\n",
       "      <td>N220WN</td>\n",
       "      <td>13204</td>\n",
       "      <td>MCO</td>\n",
       "      <td>14122</td>\n",
       "      <td>...</td>\n",
       "      <td>1135</td>\n",
       "      <td>-4.0</td>\n",
       "      <td>0.0</td>\n",
       "      <td>0.0</td>\n",
       "      <td>-1.0</td>\n",
       "      <td>0.0</td>\n",
       "      <td>0.0</td>\n",
       "      <td>135.0</td>\n",
       "      <td>133.0</td>\n",
       "      <td>NaN</td>\n",
       "    </tr>\n",
       "    <tr>\n",
       "      <th>1</th>\n",
       "      <td>2019</td>\n",
       "      <td>1</td>\n",
       "      <td>1</td>\n",
       "      <td>11</td>\n",
       "      <td>5</td>\n",
       "      <td>2019-01-11</td>\n",
       "      <td>N7889A</td>\n",
       "      <td>13204</td>\n",
       "      <td>MCO</td>\n",
       "      <td>14122</td>\n",
       "      <td>...</td>\n",
       "      <td>1645</td>\n",
       "      <td>-5.0</td>\n",
       "      <td>0.0</td>\n",
       "      <td>0.0</td>\n",
       "      <td>-1.0</td>\n",
       "      <td>0.0</td>\n",
       "      <td>0.0</td>\n",
       "      <td>145.0</td>\n",
       "      <td>138.0</td>\n",
       "      <td>NaN</td>\n",
       "    </tr>\n",
       "    <tr>\n",
       "      <th>2</th>\n",
       "      <td>2019</td>\n",
       "      <td>1</td>\n",
       "      <td>1</td>\n",
       "      <td>11</td>\n",
       "      <td>5</td>\n",
       "      <td>2019-01-11</td>\n",
       "      <td>N764SW</td>\n",
       "      <td>13204</td>\n",
       "      <td>MCO</td>\n",
       "      <td>14307</td>\n",
       "      <td>...</td>\n",
       "      <td>1545</td>\n",
       "      <td>-13.0</td>\n",
       "      <td>0.0</td>\n",
       "      <td>0.0</td>\n",
       "      <td>-1.0</td>\n",
       "      <td>0.0</td>\n",
       "      <td>0.0</td>\n",
       "      <td>165.0</td>\n",
       "      <td>153.0</td>\n",
       "      <td>NaN</td>\n",
       "    </tr>\n",
       "    <tr>\n",
       "      <th>3</th>\n",
       "      <td>2019</td>\n",
       "      <td>1</td>\n",
       "      <td>1</td>\n",
       "      <td>11</td>\n",
       "      <td>5</td>\n",
       "      <td>2019-01-11</td>\n",
       "      <td>N8309C</td>\n",
       "      <td>13204</td>\n",
       "      <td>MCO</td>\n",
       "      <td>14307</td>\n",
       "      <td>...</td>\n",
       "      <td>2255</td>\n",
       "      <td>-4.0</td>\n",
       "      <td>0.0</td>\n",
       "      <td>0.0</td>\n",
       "      <td>-1.0</td>\n",
       "      <td>0.0</td>\n",
       "      <td>0.0</td>\n",
       "      <td>160.0</td>\n",
       "      <td>161.0</td>\n",
       "      <td>NaN</td>\n",
       "    </tr>\n",
       "    <tr>\n",
       "      <th>4</th>\n",
       "      <td>2019</td>\n",
       "      <td>1</td>\n",
       "      <td>1</td>\n",
       "      <td>11</td>\n",
       "      <td>5</td>\n",
       "      <td>2019-01-11</td>\n",
       "      <td>N8686A</td>\n",
       "      <td>13204</td>\n",
       "      <td>MCO</td>\n",
       "      <td>14307</td>\n",
       "      <td>...</td>\n",
       "      <td>1035</td>\n",
       "      <td>-7.0</td>\n",
       "      <td>0.0</td>\n",
       "      <td>0.0</td>\n",
       "      <td>-1.0</td>\n",
       "      <td>0.0</td>\n",
       "      <td>0.0</td>\n",
       "      <td>160.0</td>\n",
       "      <td>155.0</td>\n",
       "      <td>NaN</td>\n",
       "    </tr>\n",
       "  </tbody>\n",
       "</table>\n",
       "<p>5 rows × 24 columns</p>\n",
       "</div>"
      ],
      "text/plain": [
       "   YEAR  QUARTER  MONTH  DAY_OF_MONTH  DAY_OF_WEEK     FL_DATE TAIL_NUM  \\\n",
       "0  2019        1      1            11            5  2019-01-11   N220WN   \n",
       "1  2019        1      1            11            5  2019-01-11   N7889A   \n",
       "2  2019        1      1            11            5  2019-01-11   N764SW   \n",
       "3  2019        1      1            11            5  2019-01-11   N8309C   \n",
       "4  2019        1      1            11            5  2019-01-11   N8686A   \n",
       "\n",
       "   ORIGIN_AIRPORT_ID ORIGIN  DEST_AIRPORT_ID  ... CRS_ARR_TIME  ARR_DELAY  \\\n",
       "0              13204    MCO            14122  ...         1135       -4.0   \n",
       "1              13204    MCO            14122  ...         1645       -5.0   \n",
       "2              13204    MCO            14307  ...         1545      -13.0   \n",
       "3              13204    MCO            14307  ...         2255       -4.0   \n",
       "4              13204    MCO            14307  ...         1035       -7.0   \n",
       "\n",
       "   ARR_DELAY_NEW  ARR_DEL15  ARR_DELAY_GROUP  CANCELLED  DIVERTED  \\\n",
       "0            0.0        0.0             -1.0        0.0       0.0   \n",
       "1            0.0        0.0             -1.0        0.0       0.0   \n",
       "2            0.0        0.0             -1.0        0.0       0.0   \n",
       "3            0.0        0.0             -1.0        0.0       0.0   \n",
       "4            0.0        0.0             -1.0        0.0       0.0   \n",
       "\n",
       "   CRS_ELAPSED_TIME  ACTUAL_ELAPSED_TIME  Unnamed: 23  \n",
       "0             135.0                133.0          NaN  \n",
       "1             145.0                138.0          NaN  \n",
       "2             165.0                153.0          NaN  \n",
       "3             160.0                161.0          NaN  \n",
       "4             160.0                155.0          NaN  \n",
       "\n",
       "[5 rows x 24 columns]"
      ]
     },
     "execution_count": 26,
     "metadata": {},
     "output_type": "execute_result"
    }
   ],
   "source": [
    "df2 = pd.read_csv('data_19.csv')\n",
    "df2.head()"
   ]
  },
  {
   "cell_type": "code",
   "execution_count": 27,
   "metadata": {},
   "outputs": [
    {
     "data": {
      "text/plain": [
       "YEAR                        0\n",
       "QUARTER                     0\n",
       "MONTH                       0\n",
       "DAY_OF_MONTH                0\n",
       "DAY_OF_WEEK                 0\n",
       "FL_DATE                     0\n",
       "TAIL_NUM                 4685\n",
       "ORIGIN_AIRPORT_ID           0\n",
       "ORIGIN                      0\n",
       "DEST_AIRPORT_ID             0\n",
       "DEST                        0\n",
       "CRS_DEP_TIME                0\n",
       "TAXI_OUT                19396\n",
       "TAXI_IN                 19939\n",
       "CRS_ARR_TIME                0\n",
       "ARR_DELAY               21000\n",
       "ARR_DELAY_NEW           21000\n",
       "ARR_DEL15               21000\n",
       "ARR_DELAY_GROUP         21000\n",
       "CANCELLED                   0\n",
       "DIVERTED                    0\n",
       "CRS_ELAPSED_TIME            8\n",
       "ACTUAL_ELAPSED_TIME     21000\n",
       "Unnamed: 23            638649\n",
       "dtype: int64"
      ]
     },
     "execution_count": 27,
     "metadata": {},
     "output_type": "execute_result"
    }
   ],
   "source": [
    "df2.isnull().sum()"
   ]
  },
  {
   "cell_type": "code",
   "execution_count": 99,
   "metadata": {},
   "outputs": [
    {
     "data": {
      "text/plain": [
       "YEAR                       0\n",
       "QUARTER                    0\n",
       "MONTH                      0\n",
       "DAY_OF_MONTH               0\n",
       "DAY_OF_WEEK                0\n",
       "ORIGIN_AIRPORT_ID          0\n",
       "ORIGIN                     0\n",
       "DEST_AIRPORT_ID            0\n",
       "DEST                       0\n",
       "CRS_DEP_TIME               0\n",
       "TAXI_OUT               19396\n",
       "TAXI_IN                19939\n",
       "CRS_ARR_TIME               0\n",
       "ARR_DELAY              21000\n",
       "ARR_DEL15              21000\n",
       "ARR_DELAY_GROUP        21000\n",
       "CANCELLED                  0\n",
       "DIVERTED                   0\n",
       "CRS_ELAPSED_TIME           8\n",
       "ACTUAL_ELAPSED_TIME    21000\n",
       "dtype: int64"
      ]
     },
     "execution_count": 99,
     "metadata": {},
     "output_type": "execute_result"
    }
   ],
   "source": [
    "df2 = df2.drop('Unnamed: 23', axis=1)\n",
    "df2 = df2.drop(['ARR_DELAY_NEW','TAIL_NUM','FL_DATE'], axis=1)\n",
    "\n",
    "df2.isnull().sum()"
   ]
  },
  {
   "cell_type": "code",
   "execution_count": null,
   "metadata": {},
   "outputs": [],
   "source": []
  },
  {
   "cell_type": "code",
   "execution_count": 100,
   "metadata": {},
   "outputs": [
    {
     "data": {
      "text/html": [
       "<div>\n",
       "<style scoped>\n",
       "    .dataframe tbody tr th:only-of-type {\n",
       "        vertical-align: middle;\n",
       "    }\n",
       "\n",
       "    .dataframe tbody tr th {\n",
       "        vertical-align: top;\n",
       "    }\n",
       "\n",
       "    .dataframe thead th {\n",
       "        text-align: right;\n",
       "    }\n",
       "</style>\n",
       "<table border=\"1\" class=\"dataframe\">\n",
       "  <thead>\n",
       "    <tr style=\"text-align: right;\">\n",
       "      <th></th>\n",
       "      <th>YEAR</th>\n",
       "      <th>QUARTER</th>\n",
       "      <th>MONTH</th>\n",
       "      <th>DAY_OF_MONTH</th>\n",
       "      <th>DAY_OF_WEEK</th>\n",
       "      <th>ORIGIN_AIRPORT_ID</th>\n",
       "      <th>ORIGIN</th>\n",
       "      <th>DEST_AIRPORT_ID</th>\n",
       "      <th>DEST</th>\n",
       "      <th>CRS_DEP_TIME</th>\n",
       "      <th>TAXI_OUT</th>\n",
       "      <th>TAXI_IN</th>\n",
       "      <th>CRS_ARR_TIME</th>\n",
       "      <th>ARR_DELAY</th>\n",
       "      <th>ARR_DEL15</th>\n",
       "      <th>ARR_DELAY_GROUP</th>\n",
       "      <th>CANCELLED</th>\n",
       "      <th>DIVERTED</th>\n",
       "      <th>CRS_ELAPSED_TIME</th>\n",
       "      <th>ACTUAL_ELAPSED_TIME</th>\n",
       "    </tr>\n",
       "  </thead>\n",
       "  <tbody>\n",
       "    <tr>\n",
       "      <th>20</th>\n",
       "      <td>2019</td>\n",
       "      <td>1</td>\n",
       "      <td>1</td>\n",
       "      <td>11</td>\n",
       "      <td>5</td>\n",
       "      <td>13204</td>\n",
       "      <td>MCO</td>\n",
       "      <td>15016</td>\n",
       "      <td>STL</td>\n",
       "      <td>1815</td>\n",
       "      <td>NaN</td>\n",
       "      <td>NaN</td>\n",
       "      <td>1950</td>\n",
       "      <td>NaN</td>\n",
       "      <td>NaN</td>\n",
       "      <td>NaN</td>\n",
       "      <td>1.0</td>\n",
       "      <td>0.0</td>\n",
       "      <td>155.0</td>\n",
       "      <td>NaN</td>\n",
       "    </tr>\n",
       "    <tr>\n",
       "      <th>117</th>\n",
       "      <td>2019</td>\n",
       "      <td>1</td>\n",
       "      <td>1</td>\n",
       "      <td>11</td>\n",
       "      <td>5</td>\n",
       "      <td>13232</td>\n",
       "      <td>MDW</td>\n",
       "      <td>12889</td>\n",
       "      <td>LAS</td>\n",
       "      <td>1110</td>\n",
       "      <td>NaN</td>\n",
       "      <td>NaN</td>\n",
       "      <td>1320</td>\n",
       "      <td>NaN</td>\n",
       "      <td>NaN</td>\n",
       "      <td>NaN</td>\n",
       "      <td>1.0</td>\n",
       "      <td>0.0</td>\n",
       "      <td>250.0</td>\n",
       "      <td>NaN</td>\n",
       "    </tr>\n",
       "    <tr>\n",
       "      <th>141</th>\n",
       "      <td>2019</td>\n",
       "      <td>1</td>\n",
       "      <td>1</td>\n",
       "      <td>11</td>\n",
       "      <td>5</td>\n",
       "      <td>13232</td>\n",
       "      <td>MDW</td>\n",
       "      <td>13198</td>\n",
       "      <td>MCI</td>\n",
       "      <td>2140</td>\n",
       "      <td>NaN</td>\n",
       "      <td>NaN</td>\n",
       "      <td>2315</td>\n",
       "      <td>NaN</td>\n",
       "      <td>NaN</td>\n",
       "      <td>NaN</td>\n",
       "      <td>1.0</td>\n",
       "      <td>0.0</td>\n",
       "      <td>95.0</td>\n",
       "      <td>NaN</td>\n",
       "    </tr>\n",
       "    <tr>\n",
       "      <th>144</th>\n",
       "      <td>2019</td>\n",
       "      <td>1</td>\n",
       "      <td>1</td>\n",
       "      <td>11</td>\n",
       "      <td>5</td>\n",
       "      <td>13232</td>\n",
       "      <td>MDW</td>\n",
       "      <td>13204</td>\n",
       "      <td>MCO</td>\n",
       "      <td>1615</td>\n",
       "      <td>NaN</td>\n",
       "      <td>NaN</td>\n",
       "      <td>1950</td>\n",
       "      <td>NaN</td>\n",
       "      <td>NaN</td>\n",
       "      <td>NaN</td>\n",
       "      <td>1.0</td>\n",
       "      <td>0.0</td>\n",
       "      <td>155.0</td>\n",
       "      <td>NaN</td>\n",
       "    </tr>\n",
       "    <tr>\n",
       "      <th>200</th>\n",
       "      <td>2019</td>\n",
       "      <td>1</td>\n",
       "      <td>1</td>\n",
       "      <td>11</td>\n",
       "      <td>5</td>\n",
       "      <td>13232</td>\n",
       "      <td>MDW</td>\n",
       "      <td>14730</td>\n",
       "      <td>SDF</td>\n",
       "      <td>2130</td>\n",
       "      <td>NaN</td>\n",
       "      <td>NaN</td>\n",
       "      <td>2345</td>\n",
       "      <td>NaN</td>\n",
       "      <td>NaN</td>\n",
       "      <td>NaN</td>\n",
       "      <td>1.0</td>\n",
       "      <td>0.0</td>\n",
       "      <td>75.0</td>\n",
       "      <td>NaN</td>\n",
       "    </tr>\n",
       "  </tbody>\n",
       "</table>\n",
       "</div>"
      ],
      "text/plain": [
       "     YEAR  QUARTER  MONTH  DAY_OF_MONTH  DAY_OF_WEEK  ORIGIN_AIRPORT_ID  \\\n",
       "20   2019        1      1            11            5              13204   \n",
       "117  2019        1      1            11            5              13232   \n",
       "141  2019        1      1            11            5              13232   \n",
       "144  2019        1      1            11            5              13232   \n",
       "200  2019        1      1            11            5              13232   \n",
       "\n",
       "    ORIGIN  DEST_AIRPORT_ID DEST  CRS_DEP_TIME  TAXI_OUT  TAXI_IN  \\\n",
       "20     MCO            15016  STL          1815       NaN      NaN   \n",
       "117    MDW            12889  LAS          1110       NaN      NaN   \n",
       "141    MDW            13198  MCI          2140       NaN      NaN   \n",
       "144    MDW            13204  MCO          1615       NaN      NaN   \n",
       "200    MDW            14730  SDF          2130       NaN      NaN   \n",
       "\n",
       "     CRS_ARR_TIME  ARR_DELAY  ARR_DEL15  ARR_DELAY_GROUP  CANCELLED  DIVERTED  \\\n",
       "20           1950        NaN        NaN              NaN        1.0       0.0   \n",
       "117          1320        NaN        NaN              NaN        1.0       0.0   \n",
       "141          2315        NaN        NaN              NaN        1.0       0.0   \n",
       "144          1950        NaN        NaN              NaN        1.0       0.0   \n",
       "200          2345        NaN        NaN              NaN        1.0       0.0   \n",
       "\n",
       "     CRS_ELAPSED_TIME  ACTUAL_ELAPSED_TIME  \n",
       "20              155.0                  NaN  \n",
       "117             250.0                  NaN  \n",
       "141              95.0                  NaN  \n",
       "144             155.0                  NaN  \n",
       "200              75.0                  NaN  "
      ]
     },
     "execution_count": 100,
     "metadata": {},
     "output_type": "execute_result"
    }
   ],
   "source": [
    "df2[df2.isnull().values.any(axis=1)].head()"
   ]
  },
  {
   "cell_type": "code",
   "execution_count": 101,
   "metadata": {},
   "outputs": [],
   "source": [
    "df2['ACTUAL_ELAPSED_TIME'].fillna(df2['ACTUAL_ELAPSED_TIME'].mean(), inplace=True)\n",
    "df2['TAXI_OUT'].fillna(df2['TAXI_OUT'].mean(), inplace=True)\n",
    "df2['TAXI_IN'].fillna(df2['TAXI_IN'].mean(), inplace=True)\n",
    "df2['ARR_DELAY_GROUP'].fillna(df2['ARR_DELAY_GROUP'].mean(), inplace=True)\n",
    "\n",
    "df2['ARR_DELAY'].fillna(df2['ARR_DELAY'].mean(), inplace=True)\n",
    "df2 = df2.fillna({'ARR_DEL15': 1})\n",
    "\n"
   ]
  },
  {
   "cell_type": "code",
   "execution_count": 102,
   "metadata": {},
   "outputs": [
    {
     "name": "stdout",
     "output_type": "stream",
     "text": [
      "<class 'pandas.core.frame.DataFrame'>\n",
      "RangeIndex: 638649 entries, 0 to 638648\n",
      "Data columns (total 20 columns):\n",
      "YEAR                   638649 non-null int64\n",
      "QUARTER                638649 non-null int64\n",
      "MONTH                  638649 non-null int64\n",
      "DAY_OF_MONTH           638649 non-null int64\n",
      "DAY_OF_WEEK            638649 non-null int64\n",
      "ORIGIN_AIRPORT_ID      638649 non-null int64\n",
      "ORIGIN                 638649 non-null int32\n",
      "DEST_AIRPORT_ID        638649 non-null int64\n",
      "DEST                   638649 non-null int32\n",
      "CRS_DEP_TIME           638649 non-null int64\n",
      "TAXI_OUT               638649 non-null float64\n",
      "TAXI_IN                638649 non-null float64\n",
      "CRS_ARR_TIME           638649 non-null int64\n",
      "ARR_DELAY              638649 non-null float64\n",
      "ARR_DEL15              638649 non-null float64\n",
      "ARR_DELAY_GROUP        638649 non-null float64\n",
      "CANCELLED              638649 non-null float64\n",
      "DIVERTED               638649 non-null float64\n",
      "CRS_ELAPSED_TIME       638641 non-null float64\n",
      "ACTUAL_ELAPSED_TIME    638649 non-null float64\n",
      "dtypes: float64(9), int32(2), int64(9)\n",
      "memory usage: 92.6 MB\n"
     ]
    }
   ],
   "source": [
    "labelEncoder.fit(df2['ORIGIN'])\n",
    "labelEncoder.fit(df2['DEST'])\n",
    "df2['ORIGIN'] = labelEncoder.transform(df2['ORIGIN'])\n",
    "df2['DEST'] = labelEncoder.transform(df2['DEST'])\n",
    "#df2.head()\n",
    "df2.info()\n"
   ]
  },
  {
   "cell_type": "code",
   "execution_count": 103,
   "metadata": {},
   "outputs": [],
   "source": [
    "df2.drop(df2.index[df2['ARR_DELAY_GROUP'] < 0], inplace = True)"
   ]
  },
  {
   "cell_type": "code",
   "execution_count": 104,
   "metadata": {},
   "outputs": [],
   "source": [
    "x2 = df2.drop('ARR_DELAY_GROUP', axis=1)\n",
    "y2 =  df2['ARR_DELAY_GROUP']\n",
    "#X_train_2, X_test_2, y_train_2, y_test_2= train_test_split(x2,y2, test_size=0.2, random_state=42)"
   ]
  },
  {
   "cell_type": "markdown",
   "metadata": {},
   "source": [
    "## Predicting Random Forest with 2019"
   ]
  },
  {
   "cell_type": "code",
   "execution_count": 105,
   "metadata": {},
   "outputs": [],
   "source": [
    "y_predict_19_rf= rf.predict(x2)\n"
   ]
  },
  {
   "cell_type": "code",
   "execution_count": 106,
   "metadata": {},
   "outputs": [
    {
     "name": "stdout",
     "output_type": "stream",
     "text": [
      "Test_accuracy=0.943211119077626\n"
     ]
    },
    {
     "data": {
      "image/png": "[encoded data removed]",
      "text/plain": [
       "<Figure size 720x720 with 1 Axes>"
      ]
     },
     "metadata": {
      "needs_background": "light"
     },
     "output_type": "display_data"
    }
   ],
   "source": [
    "\n",
    "rf_test_acc =accuracy_score(y2, y_predict_19_rf)\n",
    "\n",
    "conf= confusion_matrix(y2, y_predict_19_rf)\n",
    "fig, ax = plot_confusion_matrix(conf_mat=conf, figsize=(10, 10))\n",
    "print(\"Test_accuracy=\" + str(rf_test_acc))\n",
    "plt.show()\n"
   ]
  },
  {
   "cell_type": "markdown",
   "metadata": {},
   "source": [
    "## Predicting Decision Tree with 2019"
   ]
  },
  {
   "cell_type": "code",
   "execution_count": 107,
   "metadata": {},
   "outputs": [],
   "source": [
    "y_predict_19_dt= dt.predict(x2)"
   ]
  },
  {
   "cell_type": "code",
   "execution_count": 108,
   "metadata": {},
   "outputs": [
    {
     "name": "stdout",
     "output_type": "stream",
     "text": [
      "Test_accuracy=0.8620357958771059\n"
     ]
    },
    {
     "data": {
      "image/png": "[encoded data removed]",
      "text/plain": [
       "<Figure size 720x720 with 1 Axes>"
      ]
     },
     "metadata": {
      "needs_background": "light"
     },
     "output_type": "display_data"
    }
   ],
   "source": [
    "conf= confusion_matrix(y2, y_predict_19_dt)\n",
    "dt_test_acc =accuracy_score(y2, y_predict_19_dt)\n",
    "fig, ax = plot_confusion_matrix(conf_mat=conf, figsize=(10, 10))\n",
    "print(\"Test_accuracy=\" + str(dt_test_acc))\n",
    "\n",
    "plt.show()\n"
   ]
  },
  {
   "cell_type": "markdown",
   "metadata": {},
   "source": [
    "## - From the confusion matrices and accuracies of the two models, it shows that the Random Forest performs very well than Decision Tree. The main advantage of Random Forest is, it fits multiple decision trees to the data and uses averaging to boost the overall accuracy and limit overfitting. "
   ]
  },
  {
   "cell_type": "code",
   "execution_count": null,
   "metadata": {},
   "outputs": [],
   "source": []
  }
 ],
 "metadata": {
  "kernelspec": {
   "display_name": "Python 3",
   "language": "python",
   "name": "python3"
  },
  "language_info": {
   "codemirror_mode": {
    "name": "ipython",
    "version": 3
   },
   "file_extension": ".py",
   "mimetype": "text/x-python",
   "name": "python",
   "nbconvert_exporter": "python",
   "pygments_lexer": "ipython3",
   "version": "3.7.3"
  }
 },
 "nbformat": 4,
 "nbformat_minor": 2
}
